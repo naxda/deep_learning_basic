{
 "cells": [
  {
   "cell_type": "markdown",
   "metadata": {},
   "source": [
    "# 다중분류 (뉴스 기사 분류 문제)\n",
    "이전 섹션에서 본 예제는 벡터 입력을 받아서 두개의 클래스로 분류하는 문제였다.  \n",
    "두개 이상의 클래스(종류,분류)로 나위어 질 경우 다중분류라는 방식을 사용한다.  \n",
    "로이터 뉴스를 46개의 토픽으로 분류하는 예제를 통해 다중분류에 대해 확인해보자.  "
   ]
  },
  {
   "cell_type": "markdown",
   "metadata": {},
   "source": [
    "## 로이터 데이터 셋\n",
    " - 1986년에 로이터에서 공개한 짧은 뉴스 기사와 토픽의 집합인 로이터 데이터셋을 사용.\n",
    " - 텍스트 분류를 위해 널리 사용되는 간단한 데이터셋이다.\n",
    " - 46개의 토픽이 있으며 어떤 토픽은 다른 것에 비해 데이터가 많다. 각 토픽은 훈련 세트에 최소한 10개의 샘플을 가지고 있다.  \n",
    " \n",
    "## 데이터셋 로드"
   ]
  },
  {
   "cell_type": "code",
   "execution_count": 1,
   "metadata": {},
   "outputs": [
    {
     "name": "stderr",
     "output_type": "stream",
     "text": [
      "Using TensorFlow backend.\n"
     ]
    },
    {
     "data": {
      "text/plain": [
       "[1,\n",
       " 245,\n",
       " 273,\n",
       " 207,\n",
       " 156,\n",
       " 53,\n",
       " 74,\n",
       " 160,\n",
       " 26,\n",
       " 14,\n",
       " 46,\n",
       " 296,\n",
       " 26,\n",
       " 39,\n",
       " 74,\n",
       " 2979,\n",
       " 3554,\n",
       " 14,\n",
       " 46,\n",
       " 4689,\n",
       " 4329,\n",
       " 86,\n",
       " 61,\n",
       " 3499,\n",
       " 4795,\n",
       " 14,\n",
       " 61,\n",
       " 451,\n",
       " 4329,\n",
       " 17,\n",
       " 12]"
      ]
     },
     "execution_count": 1,
     "metadata": {},
     "output_type": "execute_result"
    }
   ],
   "source": [
    "from keras.datasets import reuters\n",
    "\n",
    "(train_data, train_labels), (test_data, test_labels) = reuters.load_data(num_words=10000)\n",
    "len(train_data)\n",
    "len(test_data)\n",
    "train_data[10]"
   ]
  },
  {
   "cell_type": "markdown",
   "metadata": {},
   "source": [
    "## reuters 객체의 함수로 index list를 가져와보자\n",
    "reuters객체의 get_word_index()함수를 통해서 dictionary타입의 word_index를 가져올 수 있다.  \n",
    "word_index는 (value, key) 형태로 되어있다. 이를 key, value 형태로 바꿔보자.  "
   ]
  },
  {
   "cell_type": "code",
   "execution_count": 2,
   "metadata": {},
   "outputs": [
    {
     "name": "stdout",
     "output_type": "stream",
     "text": [
      "word_index, reverse_word_index type: <class 'dict'>, <class 'dict'>\n",
      "\n"
     ]
    }
   ],
   "source": [
    "# word_index : (value, key), reverse_word_index : (key, value)\n",
    "word_index = reuters.get_word_index()\n",
    "# print('word_index: \\n{0}'.format(word_index))\n",
    "reverse_word_index = dict([(value, key) for (key, value) in word_index.items()])\n",
    "# print('reverse_word_index: \\n{0}'.format(reverse_word_index))\n",
    "print('word_index, reverse_word_index type: {0}, {1}\\n'.format(type(word_index), type(reverse_word_index)))"
   ]
  },
  {
   "cell_type": "code",
   "execution_count": 3,
   "metadata": {},
   "outputs": [
    {
     "name": "stdout",
     "output_type": "stream",
     "text": [
      "1\n",
      "2\n",
      "2\n",
      "8\n",
      "43\n",
      "10\n",
      "447\n",
      "5\n",
      "25\n",
      "207\n",
      "270\n",
      "5\n",
      "3095\n",
      "111\n",
      "16\n",
      "369\n",
      "186\n",
      "90\n",
      "67\n",
      "7\n",
      "89\n",
      "5\n",
      "19\n",
      "102\n",
      "6\n",
      "19\n",
      "124\n",
      "15\n",
      "90\n",
      "67\n",
      "84\n",
      "22\n",
      "482\n",
      "26\n",
      "7\n",
      "48\n",
      "4\n",
      "49\n",
      "8\n",
      "864\n",
      "39\n",
      "209\n",
      "154\n",
      "6\n",
      "151\n",
      "6\n",
      "83\n",
      "11\n",
      "15\n",
      "22\n",
      "155\n",
      "11\n",
      "15\n",
      "7\n",
      "48\n",
      "9\n",
      "4579\n",
      "1005\n",
      "504\n",
      "6\n",
      "258\n",
      "6\n",
      "272\n",
      "11\n",
      "15\n",
      "22\n",
      "134\n",
      "44\n",
      "11\n",
      "15\n",
      "16\n",
      "8\n",
      "197\n",
      "1245\n",
      "90\n",
      "67\n",
      "52\n",
      "29\n",
      "209\n",
      "30\n",
      "32\n",
      "132\n",
      "6\n",
      "109\n",
      "15\n",
      "17\n",
      "12\n",
      "Remove padding(0,1,2), separator: ?:\n",
      "? ? ? said as a result of its december acquisition of space co it expects earnings per share in 1987 of 1 15 to 1 30 dlrs per share up from 70 cts in 1986 the company said pretax net should rise to nine to 10 mln dlrs from six mln dlrs in 1986 and rental operation revenues to 19 to 22 mln dlrs from 12 5 mln dlrs it said cash flow per share this year should be 2 50 to three dlrs reuter 3\n",
      "\n",
      "Remove padding(0,1,2), separator: ##:\n",
      "## ## ## said as a result of its december acquisition of space co it expects earnings per share in 1987 of 1 15 to 1 30 dlrs per share up from 70 cts in 1986 the company said pretax net should rise to nine to 10 mln dlrs from six mln dlrs in 1986 and rental operation revenues to 19 to 22 mln dlrs from 12 5 mln dlrs it said cash flow per share this year should be 2 50 to three dlrs reuter 3\n",
      "\n",
      "Not Remove padding, separator: ##:\n",
      "the of of mln loss for plc said at only ended said commonwealth could 1 traders now april 0 a after said from 1985 and from foreign 000 april 0 prices its account year a but in this mln home an states earlier and rise and revs vs 000 its 16 vs 000 a but 3 psbr oils several and shareholders and dividend vs 000 its all 4 vs 000 1 mln agreed largely april 0 are 2 states will billion total and against 000 pct dlrs\n",
      "\n"
     ]
    }
   ],
   "source": [
    "'''\n",
    "train_data[0]의 0, 1, 2는 '패딩', '문서 시작', '사전에 없음'을 위한 인덱스이므로 3을 뺀다.\n",
    "dictionary의 get()메소드의 2번째 인자로 '?'와 같은 값을 넣어주면, 키에 대한 값이 없을 경우 '?'를 출력한다.\n",
    "결국 패딩, 문서시작, 사전에 없음이 나올때마다 '?'와 같은 구분자가 출력되게 된다.\n",
    "'''\n",
    "for i in train_data[0]: print(i)\n",
    "print('Remove padding(0,1,2), separator: ?:')\n",
    "decoded_newswire = ' '.join([reverse_word_index.get(i - 3, '?') for i in train_data[0]])\n",
    "print('{0}\\n'.format(decoded_newswire))\n",
    "\n",
    "print('Remove padding(0,1,2), separator: ##:')\n",
    "decoded_newswire = ' '.join([reverse_word_index.get(i - 3, '##') for i in train_data[0]])\n",
    "print('{0}\\n'.format(decoded_newswire))\n",
    "\n",
    "print('Not Remove padding, separator: ##:')\n",
    "decoded_newswire = ' '.join([reverse_word_index.get(i, '##') for i in train_data[0]])\n",
    "print('{0}\\n'.format(decoded_newswire))"
   ]
  },
  {
   "cell_type": "markdown",
   "metadata": {},
   "source": [
    "## 데이터셋 준비\n"
   ]
  },
  {
   "cell_type": "code",
   "execution_count": 4,
   "metadata": {},
   "outputs": [],
   "source": [
    "import numpy as np\n",
    "\n",
    "def vectorize_sequences(sequences, dimension=10000):\n",
    "    results = np.zeros((len(sequences), dimension))\n",
    "    for i, sequence in enumerate(sequences):\n",
    "        results[i, sequence] = 1.\n",
    "    return results\n",
    "\n",
    "# 훈련 데이터 벡터 변환\n",
    "x_train = vectorize_sequences(train_data)\n",
    "# 테스트 데이터 벡터 변환\n",
    "x_test = vectorize_sequences(test_data)"
   ]
  },
  {
   "cell_type": "markdown",
   "metadata": {},
   "source": [
    "레이블을 벡터로 바꾸는 방법은 두 가지이다. \n",
    " - 그 중 하나는 레이블의 리스트를 정수 텐서로 변환하는 것과 원-핫 인코딩을 사용하는 것이다. \n",
    " - 원-핫 인코딩이 범주형 데이터에 널리 사용되기 때문에 범주형 인코딩이라고도 부른다.\n",
    " - 원-핫 인코딩에 대한 자세한 설명은 6.1절을 참고하자. \n",
    " - 이 경우 레이블의 원-핫 인코딩은 각 레이블의 인덱스 자리는 1이고 나머지는 모두 0인 벡터이다."
   ]
  },
  {
   "cell_type": "code",
   "execution_count": 5,
   "metadata": {},
   "outputs": [],
   "source": [
    "def to_one_hot(labels, dimension=46):\n",
    "    results = np.zeros((len(labels), dimension))\n",
    "    for i, label in enumerate(labels):\n",
    "        results[i, label] = 1.\n",
    "    return results\n",
    "\n",
    "# 훈련 레이블 벡터 변환\n",
    "one_hot_train_labels = to_one_hot(train_labels)\n",
    "# 테스트 레이블 벡터 변환\n",
    "one_hot_test_labels = to_one_hot(test_labels)"
   ]
  },
  {
   "cell_type": "markdown",
   "metadata": {},
   "source": [
    "이미 케라스에는 이를 위한 내장 함수가 있다."
   ]
  },
  {
   "cell_type": "code",
   "execution_count": 6,
   "metadata": {},
   "outputs": [],
   "source": [
    "from keras.utils.np_utils import to_categorical\n",
    "\n",
    "one_hot_train_labels = to_categorical(train_labels)\n",
    "one_hot_test_labels = to_categorical(test_labels)"
   ]
  },
  {
   "cell_type": "markdown",
   "metadata": {},
   "source": [
    "## 모델 구성\n",
    "### 클래스의 갯수 증가.. 출력공간의 차원의 증가( 2 -> 46 )\n",
    "이 토픽 분류 문제는 이전의 영화 리뷰 분류처럼 두 경우 모두 짧은 텍스트를 분류하는 것이다.  \n",
    "여기에서는 새로운 제약 사항이 추가되었다. 바로 출력 클래스의 개수가 2에서 46개로 늘어난 점이다.  \n",
    "그래서 출력 공간의 차원이 훨씬 커졌다.\n",
    "\n",
    "### 출력공간 차원의 증가로 중간층의 차원의 변경이 필요하다..(정보의 누락, 병목현상을 피하기 위해)\n",
    "이전에 사용했던 것처럼 Dense 층을 쌓으면 각 층은 이전 층의 출력에서 제공한 정보만 사용할 수 있다.  \n",
    "한 층이 분류 문제에 필요한 일부 정보를 누락하면 그 다음 층에서 이를 복원할 방법이 없다.  \n",
    "각 층은 잠재적으로 정보의 병목이 될 수 있다. 이전 예제에서 16차원을 가진 중간층을 사용했지만 16차원 공간은 46개의 클래스를 구분하기에 부족하고 이렇게 규모가 작은 층은 유용한 정보를 완전히 잃게 되는, 정보의 병목 지점처럼 동작할 수 있다.\n",
    "\n",
    "이런 이유로 좀 더 규모가 큰 층을 사용하자. 64개의 유닛을 사용해 보자"
   ]
  },
  {
   "cell_type": "code",
   "execution_count": 7,
   "metadata": {},
   "outputs": [],
   "source": [
    "from keras import models\n",
    "from keras import layers\n",
    "\n",
    "model = models.Sequential()\n",
    "model.add(layers.Dense(64, activation='relu', input_shape=(10000,)))\n",
    "model.add(layers.Dense(64, activation='relu'))\n",
    "model.add(layers.Dense(46, activation='softmax'))"
   ]
  },
  {
   "cell_type": "markdown",
   "metadata": {},
   "source": [
    "이 구조에서 주목해야 할 점이 두 가지 있다:\n",
    "  \n",
    "- 마지막 Dense 층의 크기가 46이다. 각 입력 샘플에 대해서 46차원의 벡터를 출력한다는 뜻이다. 이 벡터의 각 원소(각 차원)은 각기 다른 출력 클래스가 인코딩된 것이다.  \n",
    "- 마지막 층에 softmax 활성화 함수가 사용되었다. 각 입력 샘플마다 46개의 출력 클래스에 대한 확률 분포를 출력합니다. 즉, 46차원의 출력 벡터를 만들며 output[i]는 어떤 샘플이 클래스 i에 속할 확률이다. 46개의 값을 모두 더하면 1이 된다.\n",
    "  \n",
    "이런 문제에 사용할 최선의 손실 함수는 categorical_crossentropy이다. 이 함수는 두 확률 분포의 사이의 거리를 측정한다. 여기에서는 네트워크가 출력한 확률 분포와 진짜 레이블의 분포 사이의 거리이다. 두 분포 사이의 거리를 최소화하면 진짜 레이블에 가능한 가까운 출력을 내도록 모델을 훈련하게 된다."
   ]
  },
  {
   "cell_type": "code",
   "execution_count": 8,
   "metadata": {},
   "outputs": [],
   "source": [
    "model.compile(optimizer='rmsprop',\n",
    "              loss='categorical_crossentropy',\n",
    "              metrics=['accuracy'])"
   ]
  },
  {
   "cell_type": "markdown",
   "metadata": {},
   "source": [
    "## 훈련 검증\n",
    "훈련 데이터에서 1,000개의 샘플을 따로 떼어서 검증 세트로 사용해보자."
   ]
  },
  {
   "cell_type": "code",
   "execution_count": 9,
   "metadata": {},
   "outputs": [],
   "source": [
    "x_val = x_train[:1000]\n",
    "partial_x_train = x_train[1000:]\n",
    "\n",
    "y_val = one_hot_train_labels[:1000]\n",
    "partial_y_train = one_hot_train_labels[1000:]"
   ]
  },
  {
   "cell_type": "markdown",
   "metadata": {},
   "source": [
    "20번의 에포크로 훈련시켜보자"
   ]
  },
  {
   "cell_type": "code",
   "execution_count": 10,
   "metadata": {},
   "outputs": [
    {
     "name": "stdout",
     "output_type": "stream",
     "text": [
      "Train on 7982 samples, validate on 1000 samples\n",
      "Epoch 1/20\n",
      "7982/7982 [==============================] - 1s 170us/step - loss: 2.5322 - acc: 0.4955 - val_loss: 1.7208 - val_acc: 0.6120\n",
      "Epoch 2/20\n",
      "7982/7982 [==============================] - 1s 128us/step - loss: 1.4452 - acc: 0.6879 - val_loss: 1.3459 - val_acc: 0.7060\n",
      "Epoch 3/20\n",
      "7982/7982 [==============================] - 1s 128us/step - loss: 1.0953 - acc: 0.7653 - val_loss: 1.1710 - val_acc: 0.7430\n",
      "Epoch 4/20\n",
      "7982/7982 [==============================] - 1s 128us/step - loss: 0.8695 - acc: 0.8156 - val_loss: 1.0781 - val_acc: 0.7590\n",
      "Epoch 5/20\n",
      "7982/7982 [==============================] - 1s 127us/step - loss: 0.7031 - acc: 0.8480 - val_loss: 0.9846 - val_acc: 0.7820\n",
      "Epoch 6/20\n",
      "7982/7982 [==============================] - 1s 129us/step - loss: 0.5663 - acc: 0.8799 - val_loss: 0.9419 - val_acc: 0.8030\n",
      "Epoch 7/20\n",
      "7982/7982 [==============================] - 1s 129us/step - loss: 0.4580 - acc: 0.9045 - val_loss: 0.9099 - val_acc: 0.8020\n",
      "Epoch 8/20\n",
      "7982/7982 [==============================] - 1s 128us/step - loss: 0.3696 - acc: 0.9228 - val_loss: 0.9363 - val_acc: 0.7880\n",
      "Epoch 9/20\n",
      "7982/7982 [==============================] - 1s 128us/step - loss: 0.3034 - acc: 0.9308 - val_loss: 0.8913 - val_acc: 0.8080\n",
      "Epoch 10/20\n",
      "7982/7982 [==============================] - 1s 138us/step - loss: 0.2539 - acc: 0.9412 - val_loss: 0.9072 - val_acc: 0.8100\n",
      "Epoch 11/20\n",
      "7982/7982 [==============================] - 1s 130us/step - loss: 0.2188 - acc: 0.9469 - val_loss: 0.9186 - val_acc: 0.8140\n",
      "Epoch 12/20\n",
      "7982/7982 [==============================] - 1s 129us/step - loss: 0.1876 - acc: 0.9508 - val_loss: 0.9051 - val_acc: 0.8130\n",
      "Epoch 13/20\n",
      "7982/7982 [==============================] - 1s 137us/step - loss: 0.1702 - acc: 0.9525 - val_loss: 0.9346 - val_acc: 0.8090\n",
      "Epoch 14/20\n",
      "7982/7982 [==============================] - 1s 132us/step - loss: 0.1535 - acc: 0.9558 - val_loss: 0.9681 - val_acc: 0.8060\n",
      "Epoch 15/20\n",
      "7982/7982 [==============================] - 1s 132us/step - loss: 0.1390 - acc: 0.9559 - val_loss: 0.9700 - val_acc: 0.8150\n",
      "Epoch 16/20\n",
      "7982/7982 [==============================] - 1s 129us/step - loss: 0.1315 - acc: 0.9563 - val_loss: 1.0265 - val_acc: 0.8050\n",
      "Epoch 17/20\n",
      "7982/7982 [==============================] - 1s 137us/step - loss: 0.1215 - acc: 0.9579 - val_loss: 1.0278 - val_acc: 0.7960\n",
      "Epoch 18/20\n",
      "7982/7982 [==============================] - 1s 131us/step - loss: 0.1199 - acc: 0.9577 - val_loss: 1.0434 - val_acc: 0.8080\n",
      "Epoch 19/20\n",
      "7982/7982 [==============================] - 1s 135us/step - loss: 0.1137 - acc: 0.9594 - val_loss: 1.0990 - val_acc: 0.7970\n",
      "Epoch 20/20\n",
      "7982/7982 [==============================] - 1s 132us/step - loss: 0.1110 - acc: 0.9594 - val_loss: 1.0677 - val_acc: 0.8020\n"
     ]
    }
   ],
   "source": [
    "history = model.fit(partial_x_train,\n",
    "                    partial_y_train,\n",
    "                    epochs=20,\n",
    "                    batch_size=512,\n",
    "                    validation_data=(x_val, y_val))"
   ]
  },
  {
   "cell_type": "markdown",
   "metadata": {},
   "source": [
    "## 손실 곡선"
   ]
  },
  {
   "cell_type": "code",
   "execution_count": 12,
   "metadata": {},
   "outputs": [
    {
     "data": {
      "image/png": "[encoded data removed]",
      "text/plain": [
       "<Figure size 432x288 with 1 Axes>"
      ]
     },
     "metadata": {
      "needs_background": "light"
     },
     "output_type": "display_data"
    }
   ],
   "source": [
    "import matplotlib.pyplot as plt\n",
    "\n",
    "loss = history.history['loss']\n",
    "val_loss = history.history['val_loss']\n",
    "\n",
    "epochs = range(1, len(loss) + 1)\n",
    "\n",
    "plt.plot(epochs, loss, 'bo', label='Training loss')\n",
    "plt.plot(epochs, val_loss, 'b', label='Validation loss')\n",
    "plt.title('Training and validation loss')\n",
    "plt.xlabel('Epochs')\n",
    "plt.ylabel('Loss')\n",
    "plt.legend()\n",
    "\n",
    "plt.show()"
   ]
  },
  {
   "cell_type": "markdown",
   "metadata": {},
   "source": [
    "## 정확도 곡선"
   ]
  },
  {
   "cell_type": "code",
   "execution_count": 14,
   "metadata": {},
   "outputs": [
    {
     "data": {
      "image/png": "[encoded data removed]",
      "text/plain": [
       "<Figure size 432x288 with 1 Axes>"
      ]
     },
     "metadata": {
      "needs_background": "light"
     },
     "output_type": "display_data"
    }
   ],
   "source": [
    "plt.clf()   # 그래프를 초기화합니다\n",
    "\n",
    "acc = history.history['acc']\n",
    "val_acc = history.history['val_acc']\n",
    "\n",
    "plt.plot(epochs, acc, 'bo', label='Training acc')\n",
    "plt.plot(epochs, val_acc, 'b', label='Validation acc')\n",
    "plt.title('Training and validation accuracy')\n",
    "plt.xlabel('Epochs')\n",
    "plt.ylabel('Accuracy')\n",
    "plt.legend()\n",
    "\n",
    "plt.show()"
   ]
  },
  {
   "cell_type": "markdown",
   "metadata": {},
   "source": [
    "## 9번째 에포크 이후로 과대적합(over-fitting)이 발생한다.\n",
    "에포크를 9번으로 설정하고 다시 훈련시켜보자"
   ]
  },
  {
   "cell_type": "code",
   "execution_count": 15,
   "metadata": {},
   "outputs": [
    {
     "name": "stdout",
     "output_type": "stream",
     "text": [
      "Train on 7982 samples, validate on 1000 samples\n",
      "Epoch 1/9\n",
      "7982/7982 [==============================] - 1s 169us/step - loss: 2.5398 - acc: 0.5226 - val_loss: 1.6733 - val_acc: 0.6570\n",
      "Epoch 2/9\n",
      "7982/7982 [==============================] - 1s 135us/step - loss: 1.3712 - acc: 0.7121 - val_loss: 1.2758 - val_acc: 0.7210\n",
      "Epoch 3/9\n",
      "7982/7982 [==============================] - 1s 135us/step - loss: 1.0136 - acc: 0.7781 - val_loss: 1.1303 - val_acc: 0.7530\n",
      "Epoch 4/9\n",
      "7982/7982 [==============================] - 1s 132us/step - loss: 0.7976 - acc: 0.8251 - val_loss: 1.0538 - val_acc: 0.7590\n",
      "Epoch 5/9\n",
      "7982/7982 [==============================] - 1s 122us/step - loss: 0.6393 - acc: 0.8623 - val_loss: 0.9754 - val_acc: 0.7930\n",
      "Epoch 6/9\n",
      "7982/7982 [==============================] - 1s 122us/step - loss: 0.5124 - acc: 0.8921 - val_loss: 0.9103 - val_acc: 0.8120\n",
      "Epoch 7/9\n",
      "7982/7982 [==============================] - 1s 121us/step - loss: 0.4123 - acc: 0.9139 - val_loss: 0.8919 - val_acc: 0.8210\n",
      "Epoch 8/9\n",
      "7982/7982 [==============================] - 1s 123us/step - loss: 0.3354 - acc: 0.9288 - val_loss: 0.8731 - val_acc: 0.8250\n",
      "Epoch 9/9\n",
      "7982/7982 [==============================] - 1s 123us/step - loss: 0.2783 - acc: 0.9372 - val_loss: 0.9338 - val_acc: 0.8000\n",
      "2246/2246 [==============================] - 0s 133us/step\n"
     ]
    }
   ],
   "source": [
    "model = models.Sequential()\n",
    "model.add(layers.Dense(64, activation='relu', input_shape=(10000,)))\n",
    "model.add(layers.Dense(64, activation='relu'))\n",
    "model.add(layers.Dense(46, activation='softmax'))\n",
    "\n",
    "model.compile(optimizer='rmsprop',\n",
    "              loss='categorical_crossentropy',\n",
    "              metrics=['accuracy'])\n",
    "\n",
    "model.fit(partial_x_train,\n",
    "          partial_y_train,\n",
    "          epochs=9,\n",
    "          batch_size=512,\n",
    "          validation_data=(x_val, y_val))\n",
    "results = model.evaluate(x_test, one_hot_test_labels)"
   ]
  },
  {
   "cell_type": "code",
   "execution_count": 16,
   "metadata": {},
   "outputs": [
    {
     "data": {
      "text/plain": [
       "[1.0224028317289275, 0.774265360694216]"
      ]
     },
     "execution_count": 16,
     "metadata": {},
     "output_type": "execute_result"
    }
   ],
   "source": [
    "results"
   ]
  },
  {
   "cell_type": "markdown",
   "metadata": {},
   "source": [
    "대략 75%의 정확도를 달성했다.(mac에서 ubuntu pc로 옮겨서 실행해보니 성능이 더 좋아져서 77%까지 높아졌다)  \n",
    "균형 잡힌 이진 분류 문제에서 완전히 무작위로 분류하면 50%의 정확도를 달성한다.  \n",
    "이 문제는 불균형한 데이터셋을 사용하므로 무작위로 분류하면 19% 정도를 달성한다. 여기에 비하면 이 결과는 꽤 좋은 편이다:\n",
    "\n",
    "무작위의 데이터셋을 분류한 결과는 정확도가 얼마쯤 되는지 확인해보자."
   ]
  },
  {
   "cell_type": "code",
   "execution_count": 19,
   "metadata": {},
   "outputs": [
    {
     "data": {
      "text/plain": [
       "0.19278717720391808"
      ]
     },
     "execution_count": 19,
     "metadata": {},
     "output_type": "execute_result"
    }
   ],
   "source": [
    "import copy\n",
    "\n",
    "test_labels_copy = copy.copy(test_labels)\n",
    "np.random.shuffle(test_labels_copy)\n",
    "float(np.sum(np.array(test_labels) == np.array(test_labels_copy))) / len(test_labels)"
   ]
  },
  {
   "cell_type": "markdown",
   "metadata": {},
   "source": [
    "무작위의 데이터셋을 분류한 결과의 정확도는 약 18%로 나온다."
   ]
  },
  {
   "cell_type": "markdown",
   "metadata": {},
   "source": [
    "## 새로운 데이터에 대해 예측해보자\n",
    "모델 인스턴스의 predict 메서드는 46개 토픽에 대한 확률 분포를 반환한다. 테스트 데이터 전체에 대한 토픽을 예측해보자:"
   ]
  },
  {
   "cell_type": "code",
   "execution_count": 20,
   "metadata": {},
   "outputs": [
    {
     "name": "stdout",
     "output_type": "stream",
     "text": [
      "predictions size: (46,)\n",
      "predictions sum: 1.0\n",
      "predictions max: 3\n"
     ]
    }
   ],
   "source": [
    "predictions = model.predict(x_test)\n",
    "# predictions의 각 항목은 길이가 46인 벡터입니다:\n",
    "print('predictions size: {0}'.format(predictions[0].shape))\n",
    "# 이 벡터의 원소 합은 1입니다:\n",
    "print('predictions sum: {0}'.format(np.sum(predictions[0])))\n",
    "# 가장 큰 값이 예측 클래스가 됩니다. 즉, 가장 확률이 높은 클래스입니다:\n",
    "print('predictions max: {0}'.format(np.argmax(predictions[0])))"
   ]
  },
  {
   "cell_type": "markdown",
   "metadata": {},
   "source": [
    "## 레이블과 손실을 다루는 다른 방법\n",
    " - 앞서 언급한 것처럼 원핫인코딩이 아닌, 레이블을 인코딩하는 다른 방법은 다음과 같이 정수 텐서로 변환하는 것이다.  \n",
    " - 이 방식을 사용하려면 손실 함수 하나만 바꾸면 된다. 지금까지 이 chapter에서 사용된 손실 함수 categorical_crossentropy는 레이블이 범주형 인코딩되어 있을 것이라고 기대한다.  \n",
    " - 정수 레이블을 사용할 때는 sparse_categorical_crossentropy를 사용해야 한다.  \n",
    " - 이 손실 함수는 인터페이스만 다를 뿐이고 수학적으로는 categorical_crossentropy와 동일합니다."
   ]
  },
  {
   "cell_type": "code",
   "execution_count": 21,
   "metadata": {},
   "outputs": [],
   "source": [
    "y_train = np.array(train_labels)\n",
    "y_test = np.array(test_labels)\n",
    "model.compile(optimizer='rmsprop', loss='sparse_categorical_crossentropy', metrics=['acc'])"
   ]
  },
  {
   "cell_type": "markdown",
   "metadata": {},
   "source": [
    "## 충분히 큰 중간층을 두어야 하는 이유\n",
    "앞서 언급한 것처럼 마지막 출력이 46차원이기 때문에 중간층의 히든 유닛이 46개보다 많이 적어서는 안된다.  \n",
    "46차원보다 훨씬 작은 중간층(예를 들면 4차원)을 두면 정보의 병목이 어떻게 나타나는지 확인해보자.  "
   ]
  },
  {
   "cell_type": "code",
   "execution_count": 22,
   "metadata": {},
   "outputs": [
    {
     "name": "stdout",
     "output_type": "stream",
     "text": [
      "Train on 7982 samples, validate on 1000 samples\n",
      "Epoch 1/20\n",
      "7982/7982 [==============================] - 1s 183us/step - loss: 3.2660 - acc: 0.1461 - val_loss: 2.7982 - val_acc: 0.3830\n",
      "Epoch 2/20\n",
      "7982/7982 [==============================] - 1s 158us/step - loss: 2.2586 - acc: 0.4454 - val_loss: 1.9289 - val_acc: 0.5170\n",
      "Epoch 3/20\n",
      "7982/7982 [==============================] - 1s 170us/step - loss: 1.4987 - acc: 0.6391 - val_loss: 1.5101 - val_acc: 0.6190\n",
      "Epoch 4/20\n",
      "7982/7982 [==============================] - 1s 162us/step - loss: 1.2049 - acc: 0.6859 - val_loss: 1.4191 - val_acc: 0.6630\n",
      "Epoch 5/20\n",
      "7982/7982 [==============================] - 1s 164us/step - loss: 1.0508 - acc: 0.7329 - val_loss: 1.3706 - val_acc: 0.6850\n",
      "Epoch 6/20\n",
      "7982/7982 [==============================] - 1s 157us/step - loss: 0.9338 - acc: 0.7766 - val_loss: 1.3617 - val_acc: 0.7080\n",
      "Epoch 7/20\n",
      "7982/7982 [==============================] - 1s 157us/step - loss: 0.8401 - acc: 0.8037 - val_loss: 1.3551 - val_acc: 0.7130\n",
      "Epoch 8/20\n",
      "7982/7982 [==============================] - 1s 156us/step - loss: 0.7634 - acc: 0.8203 - val_loss: 1.3677 - val_acc: 0.7160\n",
      "Epoch 9/20\n",
      "7982/7982 [==============================] - 1s 163us/step - loss: 0.6992 - acc: 0.8315 - val_loss: 1.3579 - val_acc: 0.7180\n",
      "Epoch 10/20\n",
      "7982/7982 [==============================] - 1s 159us/step - loss: 0.6458 - acc: 0.8413 - val_loss: 1.3901 - val_acc: 0.7150\n",
      "Epoch 11/20\n",
      "7982/7982 [==============================] - 1s 160us/step - loss: 0.5995 - acc: 0.8472 - val_loss: 1.4356 - val_acc: 0.7140\n",
      "Epoch 12/20\n",
      "7982/7982 [==============================] - 1s 161us/step - loss: 0.5623 - acc: 0.8554 - val_loss: 1.4748 - val_acc: 0.7090\n",
      "Epoch 13/20\n",
      "7982/7982 [==============================] - 1s 157us/step - loss: 0.5293 - acc: 0.8603 - val_loss: 1.5186 - val_acc: 0.7120\n",
      "Epoch 14/20\n",
      "7982/7982 [==============================] - 1s 158us/step - loss: 0.5003 - acc: 0.8664 - val_loss: 1.5979 - val_acc: 0.7110\n",
      "Epoch 15/20\n",
      "7982/7982 [==============================] - 1s 163us/step - loss: 0.4763 - acc: 0.8711 - val_loss: 1.6058 - val_acc: 0.7150\n",
      "Epoch 16/20\n",
      "7982/7982 [==============================] - 1s 166us/step - loss: 0.4531 - acc: 0.8760 - val_loss: 1.6566 - val_acc: 0.7030\n",
      "Epoch 17/20\n",
      "7982/7982 [==============================] - 1s 155us/step - loss: 0.4326 - acc: 0.8780 - val_loss: 1.6515 - val_acc: 0.7040\n",
      "Epoch 18/20\n",
      "7982/7982 [==============================] - 1s 158us/step - loss: 0.4152 - acc: 0.8849 - val_loss: 1.7304 - val_acc: 0.7100\n",
      "Epoch 19/20\n",
      "7982/7982 [==============================] - 1s 157us/step - loss: 0.4008 - acc: 0.8889 - val_loss: 1.7505 - val_acc: 0.7050\n",
      "Epoch 20/20\n",
      "7982/7982 [==============================] - 1s 158us/step - loss: 0.3841 - acc: 0.8914 - val_loss: 1.7886 - val_acc: 0.7040\n"
     ]
    },
    {
     "data": {
      "text/plain": [
       "<keras.callbacks.History at 0x7fdea183eba8>"
      ]
     },
     "execution_count": 22,
     "metadata": {},
     "output_type": "execute_result"
    }
   ],
   "source": [
    "model = models.Sequential()\n",
    "model.add(layers.Dense(64, activation='relu', input_shape=(10000,)))\n",
    "model.add(layers.Dense(4, activation='relu'))\n",
    "model.add(layers.Dense(46, activation='softmax'))\n",
    "\n",
    "model.compile(optimizer='rmsprop',\n",
    "              loss='categorical_crossentropy',\n",
    "              metrics=['accuracy'])\n",
    "model.fit(partial_x_train,\n",
    "          partial_y_train,\n",
    "          epochs=20,\n",
    "          batch_size=128,\n",
    "          validation_data=(x_val, y_val))"
   ]
  },
  {
   "cell_type": "markdown",
   "metadata": {},
   "source": [
    "검증정확도가 약 77%에서 약 71%로 6%정도 낮아진 것을 볼 수 있다.\n",
    "중간층의 차원이 46보다 작아서 압축을 하게 되고 여기서 손실이 발생했기 때문이다.\n",
    "이를 병목현상이라고 부른다."
   ]
  },
  {
   "cell_type": "markdown",
   "metadata": {},
   "source": [
    "## 추가 실험\n",
    " - 더 크거나 작은 층을 사용해 보자: 32개 유닛, 128개 유닛 등\n",
    " - 여기에서 두 개의 은닉층을 사용했습니다. 한 개의 은닉층이나 세 개의 은닉층을 사용해 보자."
   ]
  },
  {
   "cell_type": "markdown",
   "metadata": {},
   "source": [
    "## 정리\n",
    "다음은 이 예제에서 배운 것들이다.\n",
    "\n",
    " - N개의 클래스로 데이터 포인트를 분류하려면 네트워크의 마지막 Dense 층의 크기는 N이어야 한다.\n",
    " - 단일 레이블, 다중 분류 문제에서는 N개의 클래스에 대한 확률 분포를 출력하기 위해 softmax 활성화 함수를 사용해야 한다.\n",
    " - 이런 문제에는 항상 범주형 크로스엔트로피를 사용해야 합니다. 이 함수는 모델이 출력한 확률 분포와 타깃 분포 사이의 거리를 최소화한다.\n",
    " - 다중 분류에서 레이블을 다루는 두 가지 방법이 있다.\n",
    " - 레이블을 범주형 인코딩(또는 원-핫 인코딩)으로 인코딩하고 categorical_crossentropy 손실 함수를 사용한다.\n",
    " - 레이블을 정수로 인코딩하고 sparse_categorical_crossentropy 손실 함수를 사용한다.\n",
    " - 많은 수의 범주를 분류할 때 중간층의 크기가 너무 작아 네트워크에 정보의 병목이 생기지 않도록 해야한다."
   ]
  }
 ],
 "metadata": {
  "kernelspec": {
   "display_name": "Python 3",
   "language": "python",
   "name": "python3"
  },
  "language_info": {
   "codemirror_mode": {
    "name": "ipython",
    "version": 3
   },
   "file_extension": ".py",
   "mimetype": "text/x-python",
   "name": "python",
   "nbconvert_exporter": "python",
   "pygments_lexer": "ipython3",
   "version": "3.5.2"
  }
 },
 "nbformat": 4,
 "nbformat_minor": 2
}
