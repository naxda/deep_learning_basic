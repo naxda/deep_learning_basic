{
 "cells": [
  {
   "cell_type": "markdown",
   "metadata": {},
   "source": [
    "# 1. 머신러닝의 개념과 용어\n",
    "\n",
    "AI(Artificial Intelligence), 프로그램..\n",
    "프로그램이란 input에 대한 out을 출력하는 것이 프로그램이다..\n",
    "AI는 정해진 input에 대한 out을 예측할 수 있어야 한다.\n",
    "input에 대한 out을 예측할 수 있도록, 수 많은 데이터를 학습해서 예측할 수 있도록 해주는 것이 머신러닝이다.\n",
    "프로그램인데, 이것을 개발자가 어떻게 할지를 정하는 것이 아니라, 프로그램이 데이터를 통해 학습해서\n",
    "스스로 배우는 영역을 머신러닝이라고 한다.\n",
    "그리고 이런 머신러닝의 여러 방법 중 하나가 신경망 이론을 이용한 딥러닝이라는 것이다.\n",
    "<left><img src=\"image/machine_learning_deep_learning.png\" width=\"400\" height=\"300\"></left>\n",
    "\n",
    "# 텐서플로 기본 용어\n",
    "https://www.tensorflow.org/guide/graphs\n",
    "https://docs.google.com/presentation/d/137IlT2N3AYcclqxNuc8j9RDrIeHiYkSZ5JPg_vg9Jqk/edit#slide=id.g1d115b0ec5_0_32\n",
    "\n",
    "노드는 수학적인 연산을 의미하며 아래 그림의 동그란 것들이 노드에 해당한다.\n",
    "엣지는 간선을 의미하는데 데이터 어레이를 의미한다.. 쉽게 말해 데이터 셋을 의미하는 듯하다.\n",
    "\n",
    "<left><img src=\"image/tensors_flowing.gif\"></left>\n",
    "\n"
   ]
  },
  {
   "cell_type": "markdown",
   "metadata": {},
   "source": [
    "# node, session이란..\n",
    "node는 앞에서의 설명과 같이 operation을 의미한다... 특정한 상수가 될수 도 있는 것으로 보인다.\n",
    "특정한 상수 대신 실행 중에 입력을 받고 싶으면 placeholder라는 것을 사용한다고 한다.  \n",
    "session 이란 위에서 노드들을 감싸고 있는 네모 박스들과 같은 역할을 의미하는 것으로 보인다.\n",
    "실행 중에도 데이터를 입력받아서 어떤 값일지 예측할 수 있도록 해주는 노드와 간선들로 이루어진 모델인 듯 하다.\n",
    "<left><img src=\"image/tensorflow_mechanics.png\" width=\"400\" height=\"300\"></left>\n",
    "\n",
    "\n",
    "~~~python\n",
    "# node(operation)\n",
    "hello = tf.constant(\"hello tensorflow\")\n",
    "# start session\n",
    "sess = tf.Session()\n",
    "# run op and get result\n",
    "print(sess.run(hello))\n",
    "~~~\n",
    "\n",
    "\n",
    "아래 예제에서는 node1, node2, node3모두 node이다.\n",
    "node1, node2는 상수 노드이고, node3은 더하는 연산의 노드가 된다.\n",
    "\n",
    "~~~python\n",
    "node1 = tf.constant(3.0, tf.float32)\n",
    "node2 = tf.constant(4.0, tf.float32)\n",
    "node3 = tf.add(node1, node2)\n",
    "~~~"
   ]
  },
  {
   "cell_type": "markdown",
   "metadata": {},
   "source": [
    "# place holder\n",
    "adder_node에 session을 run시킬 때 feed_dict로 a와 b의 값을 넣어주고 있다..\n",
    "여기에 들어가는 값들은 엑셀파일에 정의되어있는 수치일 수도 있고 특정 기간 동안 센서 등을 통해 수집된 데이터일 수도 있을 것이다.\n",
    "어쨌든 중요한 것은 실행 중에 입력값을 넣어 줄 수 있다는 것인듯..\n",
    "(feed_dict, 이름 잘지은 듯 하다. 먹이로 주는 데이터?)\n",
    "~~~python\n",
    "a = tf.placeholder(tf.float32)\n",
    "b = tf.placeholder(tf.float32)\n",
    "adder_node = a+b\n",
    "\n",
    "print(sess.run(adder_node, feed_dict = {a:3, b: 4.5}))\n",
    "print(sess.run(adder_node, feed_dict = {a: [1,3], b: [2,4]}))\n",
    "#7.5\n",
    "#[3. 7.]\n",
    "~~~\n",
    "\n",
    "<left><img src=\"image/tensorflow_mechanics2.png\" width=\"400\" height=\"300\"></left>\n"
   ]
  }
 ],
 "metadata": {
  "kernelspec": {
   "display_name": "Python 2",
   "language": "python",
   "name": "python2"
  },
  "language_info": {
   "codemirror_mode": {
    "name": "ipython",
    "version": 2
   },
   "file_extension": ".py",
   "mimetype": "text/x-python",
   "name": "python",
   "nbconvert_exporter": "python",
   "pygments_lexer": "ipython2",
   "version": "2.7.14"
  }
 },
 "nbformat": 4,
 "nbformat_minor": 2
}
